{
  "nbformat": 4,
  "nbformat_minor": 0,
  "metadata": {
    "colab": {
      "provenance": [],
      "include_colab_link": true
    },
    "kernelspec": {
      "name": "python3",
      "display_name": "Python 3"
    },
    "language_info": {
      "name": "python"
    }
  },
  "cells": [
    {
      "cell_type": "markdown",
      "metadata": {
        "id": "view-in-github",
        "colab_type": "text"
      },
      "source": [
        "<a href=\"https://colab.research.google.com/github/samuelbatista3rios/App/blob/main/programacao-orientada-a-objetos/POO_Aula2a.ipynb\" target=\"_parent\"><img src=\"https://colab.research.google.com/assets/colab-badge.svg\" alt=\"Open In Colab\"/></a>"
      ]
    },
    {
      "cell_type": "markdown",
      "source": [
        "# Programação Orientada a Objetos - Prof. Tatiana Escovedo\n",
        "\n",
        "---\n",
        "\n",
        "## Aula 02: Os 4 pilares da Orientação a Objetos\n",
        "\n",
        "### Prática 3: Introdução à Orientação a Objetos"
      ],
      "metadata": {
        "id": "nPMIS6Pb98p9"
      }
    },
    {
      "cell_type": "markdown",
      "source": [
        "### Exemplo de código 1: Definição de Classe e instanciação dos objetos"
      ],
      "metadata": {
        "id": "532Io8bt8c-q"
      }
    },
    {
      "cell_type": "code",
      "source": [
        "# Definição da classe\n",
        "class Aluno:\n",
        "\n",
        "    def __init__(self):\n",
        "        self.nome = \"Zé\"\n",
        "        self.idade = 18\n",
        "\n",
        "    def dobra_idade(self):\n",
        "        return self.idade * 2\n",
        "\n",
        "\n",
        "# Instanciação dos objetos\n",
        "\n",
        "aluno_1 = Aluno()\n",
        "aluno_1.nome = \"Maria\" # definindo que o nome do aluno_1 é \"Maria\"\n",
        "\n",
        "\n",
        "aluno_2 = Aluno()\n",
        "aluno_2.idade = 21 # definindo que a idade do aluno_2 é 21\n",
        "\n",
        "print(aluno_1.nome) # imprime Maria (valor que definimos)\n",
        "print(aluno_2.nome) # imprime Zé (valor default)\n",
        "\n",
        "print(aluno_1.dobra_idade()) # dobra a idade 18 (valor default)\n",
        "print(aluno_2.dobra_idade()) # dobra a idade 21 (valor que definimos)\n",
        "\n",
        "# ao mudar o valor de nome em aluno_1, o aluno_2 continua inalterado\n",
        "aluno_1.nome = \"Ana\"\n",
        "print(\"Nome do aluno_1:\", aluno_1.nome)\n",
        "print(\"Nome do aluno_2:\", aluno_2.nome)"
      ],
      "metadata": {
        "colab": {
          "base_uri": "https://localhost:8080/"
        },
        "id": "owosvqDF8hJj",
        "outputId": "aa9e65f8-fefb-4e4d-c9ef-dba18c400409"
      },
      "execution_count": null,
      "outputs": [
        {
          "output_type": "stream",
          "name": "stdout",
          "text": [
            "Maria\n",
            "Zé\n",
            "36\n",
            "42\n",
            "Nome do aluno_1: Ana\n",
            "Nome do aluno_2: Zé\n"
          ]
        }
      ]
    },
    {
      "cell_type": "markdown",
      "source": [
        "### Exemplo de código 2: Parâmetro self"
      ],
      "metadata": {
        "id": "QStfEC9Z8xL4"
      }
    },
    {
      "cell_type": "code",
      "source": [
        "class Calculadora:\n",
        "    \n",
        "    def __init__(self):\n",
        "        self.valor_interno = 5\n",
        "\n",
        "    def adiciona(self, numero):\n",
        "        # não podemos chamar a variável \"valor_interno\" sem \"self\" porque \"valor\" é um atributo de Calculadora\n",
        "        return self.valor_interno + numero;\n",
        "\n",
        "total = Calculadora()\n",
        "print(\"resultado = %d\" % total.adiciona(3)) # self pegará o valor 5 de valor_interno e o valor 3 irá para numero"
      ],
      "metadata": {
        "colab": {
          "base_uri": "https://localhost:8080/"
        },
        "id": "ea5EuClH8xSE",
        "outputId": "5c2296c5-7020-4233-9365-124d4eb15ac4"
      },
      "execution_count": null,
      "outputs": [
        {
          "output_type": "stream",
          "name": "stdout",
          "text": [
            "resultado = 8\n"
          ]
        }
      ]
    },
    {
      "cell_type": "markdown",
      "source": [
        "### Exemplo de código 3: Método \\_\\_init__"
      ],
      "metadata": {
        "id": "bhLuHlx882_M"
      }
    },
    {
      "cell_type": "code",
      "source": [
        "class Carro:\n",
        "\n",
        "    def __init__(self):\n",
        "        self.cor = \"preto\"\n",
        "\n",
        "# um novo carro é criado com cor = \"preto\"\n",
        "carro_1 = Carro()\n",
        "print(carro_1.cor)\n",
        "\n",
        "# alterando o valor da color de carro_1 para \"branco\"\n",
        "carro_1.cor = \"branco\"\n",
        "print(carro_1.cor)"
      ],
      "metadata": {
        "id": "kmlSLTZZ83FN",
        "colab": {
          "base_uri": "https://localhost:8080/"
        },
        "outputId": "9722e1b1-a702-4bd6-dace-ae4f23c32543"
      },
      "execution_count": null,
      "outputs": [
        {
          "output_type": "stream",
          "name": "stdout",
          "text": [
            "preto\n",
            "branco\n"
          ]
        }
      ]
    },
    {
      "cell_type": "code",
      "source": [
        "class Carro2:\n",
        "\n",
        "    def __init__(self, cor):\n",
        "        self.cor = cor\n",
        "\n",
        "# um novo carro é criado com cor = \"azul\"\n",
        "carro_2 = Carro2(\"azul\")\n",
        "print(carro_2.cor)\n",
        "\n",
        "# alterando o valor da color de carro_2 para \"branco\"\n",
        "carro_2.cor = \"branco\"\n",
        "print(carro_2.cor)"
      ],
      "metadata": {
        "colab": {
          "base_uri": "https://localhost:8080/"
        },
        "id": "83fibpCeaN7y",
        "outputId": "00224767-8efd-4ff6-f4c8-0b589e313f0d"
      },
      "execution_count": null,
      "outputs": [
        {
          "output_type": "stream",
          "name": "stdout",
          "text": [
            "azul\n",
            "branco\n"
          ]
        }
      ]
    }
  ]
}